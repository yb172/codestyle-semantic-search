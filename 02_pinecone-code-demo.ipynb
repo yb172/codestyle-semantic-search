{
 "cells": [
  {
   "cell_type": "code",
   "execution_count": 1,
   "metadata": {},
   "outputs": [],
   "source": [
    "import json\n",
    "\n",
    "with open('data/mapping.json', 'r') as fp:\n",
    "    mappings = json.load(fp)"
   ]
  },
  {
   "cell_type": "code",
   "execution_count": 2,
   "metadata": {},
   "outputs": [],
   "source": [
    "from openai import OpenAI\n",
    "import dotenv\n",
    "\n",
    "dotenv.load_dotenv('.env', override=True)\n",
    "\n",
    "client = OpenAI()\n",
    "\n",
    "def get_embedding(text, model=\"text-embedding-ada-002\"):\n",
    "   text = text.replace(\"\\n\", \" \")\n",
    "   return client.embeddings.create(input = [text], model=model).data[0].embedding"
   ]
  },
  {
   "cell_type": "code",
   "execution_count": 3,
   "metadata": {},
   "outputs": [
    {
     "name": "stderr",
     "output_type": "stream",
     "text": [
      "/Users/yb/github.com/yb172/codestyle-semantic-search/.venv/lib/python3.12/site-packages/pinecone/index.py:4: TqdmWarning: IProgress not found. Please update jupyter and ipywidgets. See https://ipywidgets.readthedocs.io/en/stable/user_install.html\n",
      "  from tqdm.autonotebook import tqdm\n"
     ]
    }
   ],
   "source": [
    "import pinecone\n",
    "import dotenv\n",
    "import os\n",
    "\n",
    "dotenv.load_dotenv('.env', override=True)\n",
    "\n",
    "def load_index():\n",
    "    pinecone.init(\n",
    "        api_key=os.environ['PINECONE_API_KEY'],  # app.pinecone.io\n",
    "        environment=os.environ[\"PINECONE_ENV\"]  # find next to API key in console\n",
    "    )\n",
    "\n",
    "    index_name = 'codestyle-semantic-search'\n",
    "    if not index_name in pinecone.list_indexes():\n",
    "        raise KeyError(f\"Index '{index_name}' does not exist.\")\n",
    "\n",
    "    return pinecone.Index(index_name)"
   ]
  },
  {
   "cell_type": "code",
   "execution_count": 4,
   "metadata": {},
   "outputs": [],
   "source": [
    "index = load_index()\n"
   ]
  },
  {
   "cell_type": "code",
   "execution_count": 5,
   "metadata": {},
   "outputs": [],
   "source": [
    "def create_context(question, index, max_len=3750):\n",
    "    \"\"\"\n",
    "    Find most relevant context for a question via Pinecone search\n",
    "    \"\"\"\n",
    "    q_embed = get_embedding(question)\n",
    "    res = index.query(q_embed, top_k=5, include_metadata=True)\n",
    "    \n",
    "\n",
    "    cur_len = 0\n",
    "    contexts = []\n",
    "\n",
    "    for row in res['matches']:\n",
    "        text = mappings[row['id']]\n",
    "        cur_len += row['metadata']['n_tokens'] + 4\n",
    "        if cur_len < max_len:\n",
    "            contexts.append(text)\n",
    "        else:\n",
    "            cur_len -= row['metadata']['n_tokens'] + 4\n",
    "            if max_len - cur_len < 200:\n",
    "                break\n",
    "    return \"\\n\\n###\\n\\n\".join(contexts)"
   ]
  },
  {
   "cell_type": "code",
   "execution_count": 6,
   "metadata": {},
   "outputs": [
    {
     "data": {
      "text/plain": [
       "'Styleguide: Google C++ Style Guide - Naming; Section: General Naming Rules (link https://google.github.io/styleguide/cppguide.html#General_Naming_Rules); Guide: Optimize for readability using names that would be clear even to people on a different team. Use names that describe the purpose or intent of the object. Do not worry about saving horizontal space as it is far more important to make your code immediately understandable by a new reader. Minimize the use of abbreviations that would likely be unknown to someone outside your project (especially acronyms and initialisms). Do not abbreviate by deleting letters within a word. As a rule of thumb, an abbreviation is probably OK if it\\'s listed in Wikipedia. Generally speaking, descriptiveness should be proportional to the name\\'s scope of visibility. For example, n may be a fine name within a 5-line function, but within the scope of a class, it\\'s likely too vague. class MyClass { public: int CountFooErrors(const std::vector<Foo>& foos) {  int n = 0; // Clear meaning given limited scope and context  for (const auto& foo : foos) {  ...  ++n;  }  return n; } void DoSomethingImportant() {  std::string fqdn = ...; // Well-known abbreviation for Fully Qualified Domain Name } private: const int kMaxAllowedConnections = ...; // Clear meaning within context }; class MyClass { public: int CountFooErrors(const std::vector<Foo>& foos) {  int total_number_of_foo_errors = 0; // Overly verbose given limited scope and context  for (int foo_index = 0; foo_index < foos.size(); ++foo_index) { // Use idiomatic `i`  ...  ++total_number_of_foo_errors;  }  return total_number_of_foo_errors; } void DoSomethingImportant() {  int cstmr_id = ...; // Deletes internal letters } private: const int kNum = ...; // Unclear meaning within broad scope }; Note that certain universally-known abbreviations are OK, such as i for an iteration variable and T for a template parameter. For the purposes of the naming rules below, a \"word\" is anything that you would write in English without internal spaces. This includes abbreviations, such as acronyms and initialisms. For names written in mixed case (also sometimes referred to as \"camel case\" or \"Pascal case\"), in which the first letter of each word is capitalized, prefer to capitalize abbreviations as single words, e.g., StartRpc() rather than StartRPC(). Template parameters should follow the naming style for their category: type template parameters should follow the rules for type names, and non-type template parameters should follow the rules for variable names.\\n\\n###\\n\\nStyleguide: Google C++ Style Guide - Naming; Section: Type Names (link https://google.github.io/styleguide/cppguide.html#Type_Names); Guide: Type names start with a capital letter and have a capital letter for each new word, with no underscores: MyExcitingClass, MyExcitingEnum. The names of all types — classes, structs, type aliases, enums, and type template parameters — have the same naming convention. Type names should start with a capital letter and have a capital letter for each new word. No underscores. For example: // classes and structs class UrlTable { ... class UrlTableTester { ... struct UrlTableProperties { ... // typedefs typedef hash_map<UrlTableProperties *, std::string> PropertiesMap; // using aliases using PropertiesMap = hash_map<UrlTableProperties *, std::string>; // enums enum class UrlTableError { ...\\n\\n###\\n\\nStyleguide: Google C++ Style Guide - Naming; Section: (link https://google.github.io/styleguide/cppguide.html#Naming); Guide: The most important consistency rules are those that govern naming. The style of a name immediately informs us what sort of thing the named entity is: a type, a variable, a function, a constant, a macro, etc., without requiring us to search for the declaration of that entity. The pattern-matching engine in our brains relies a great deal on these naming rules. Naming rules are pretty arbitrary, but we feel that consistency is more important than individual preferences in this area, so regardless of whether you find them sensible or not, the rules are the rules.\\n\\n###\\n\\nStyleguide: Google C++ Style Guide - Naming; Section: Function Names (link https://google.github.io/styleguide/cppguide.html#Function_Names); Guide: Regular functions have mixed case; accessors and mutators may be named like variables. Ordinarily, functions should start with a capital letter and have a capital letter for each new word. AddTableEntry() DeleteUrl() OpenFileOrDie() (The same naming rule applies to class- and namespace-scope constants that are exposed as part of an API and that are intended to look like functions, because the fact that they\\'re objects rather than functions is an unimportant implementation detail.) Accessors and mutators (get and set functions) may be named like variables. These often correspond to actual member variables, but this is not required. For example, int count() and void set_count(int count).\\n\\n###\\n\\nStyleguide: Google C++ Style Guide - Naming; Section: File Names (link https://google.github.io/styleguide/cppguide.html#File_Names); Guide: Filenames should be all lowercase and can include underscores (_) or dashes (-). Follow the convention that your project uses. If there is no consistent local pattern to follow, prefer \"_\". Examples of acceptable file names:  my_useful_class.cc my-useful-class.cc myusefulclass.cc myusefulclass_test.cc // _unittest and _regtest are deprecated. C++ files should end in .cc and header files should end in .h. Files that rely on being textually included at specific points should end in .inc (see also the section on self-contained headers). Do not use filenames that already exist in /usr/include, such as db.h. In general, make your filenames very specific. For example, use http_server_logs.h rather than logs.h. A very common case is to have a pair of files called, e.g., foo_bar.h and foo_bar.cc, defining a class called FooBar.'"
      ]
     },
     "execution_count": 6,
     "metadata": {},
     "output_type": "execute_result"
    }
   ],
   "source": [
    "create_context(\"how should I name a new class\", index)"
   ]
  },
  {
   "cell_type": "code",
   "execution_count": 16,
   "metadata": {},
   "outputs": [],
   "source": [
    "\n",
    "client = OpenAI()\n",
    "\n",
    "def answer_question(\n",
    "    index,\n",
    "    question=\"How to name a variable?\",\n",
    "    max_len=3550,\n",
    "    debug=False,\n",
    "):\n",
    "    \"\"\"\n",
    "    Answer a question based on the most similar context from the dataframe texts\n",
    "    \"\"\"\n",
    "    context = create_context(\n",
    "        question,\n",
    "        index,\n",
    "        max_len=max_len,\n",
    "    )\n",
    "    if debug:\n",
    "        print(\"Context:\\n\" + context)\n",
    "        print(\"\\n\\n\")\n",
    "    try:\n",
    "        #print(instruction.format(context, question))\n",
    "        response = client.chat.completions.create(\n",
    "            model=\"gpt-3.5-turbo\",\n",
    "            messages=[\n",
    "                {\"role\": \"system\", \"content\": \"You are a helpful codestyle assistant. When answering question, use following format: 1. Describe style requirements in one or two sentences, 2. Give a few examples that follow described styleguides, 3. Provide descriptions that you were able to find that clarify why such style was chosen\"},\n",
    "                {\"role\": \"user\", \"content\": question},\n",
    "            ]\n",
    "        )\n",
    "        # response = openai.Completion.create(\n",
    "        #     prompt=instruction.format(context, question),\n",
    "        #     temperature=0,\n",
    "        #     max_tokens=max_tokens,\n",
    "        #     top_p=1,\n",
    "        #     frequency_penalty=0,\n",
    "        #     presence_penalty=0,\n",
    "        #     stop=stop_sequence,\n",
    "        #     **model_param,\n",
    "        # )\n",
    "        return response.choices[0].message.content\n",
    "    except Exception as e:\n",
    "        print(e)\n",
    "        return \"\""
   ]
  },
  {
   "cell_type": "code",
   "execution_count": 18,
   "metadata": {},
   "outputs": [
    {
     "data": {
      "text/plain": [
       "'1. The style requirement for naming templated parameters is to use lowercase with underscores.\\n\\n2. Examples that follow the style guideline:\\n   - `template<typename name_type>`\\n   - `template<typename value_type>`\\n\\n3. The convention of using lowercase with underscores for templated parameter names is consistent with the naming style used for variables and function parameters in C++. It helps improve code readability and maintain consistency throughout the codebase.'"
      ]
     },
     "execution_count": 18,
     "metadata": {},
     "output_type": "execute_result"
    }
   ],
   "source": [
    "answer_question(index, question=\"I have a function 'GenerateName' that is templated. Should I name templated parameter <template typename NameType> or <template typename name_type>?\")"
   ]
  }
 ],
 "metadata": {
  "kernelspec": {
   "display_name": ".venv",
   "language": "python",
   "name": "python3"
  },
  "language_info": {
   "codemirror_mode": {
    "name": "ipython",
    "version": 3
   },
   "file_extension": ".py",
   "mimetype": "text/x-python",
   "name": "python",
   "nbconvert_exporter": "python",
   "pygments_lexer": "ipython3",
   "version": "3.12.0"
  },
  "orig_nbformat": 4
 },
 "nbformat": 4,
 "nbformat_minor": 2
}
